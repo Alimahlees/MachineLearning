{
  "nbformat": 4,
  "nbformat_minor": 0,
  "metadata": {
    "colab": {
      "name": "Embeddings.ipynb",
      "provenance": [],
      "collapsed_sections": [],
      "authorship_tag": "ABX9TyPALxoEU6/Hn9hDe/1rp+VD",
      "include_colab_link": true
    },
    "kernelspec": {
      "name": "python3",
      "display_name": "Python 3"
    },
    "accelerator": "GPU"
  },
  "cells": [
    {
      "cell_type": "markdown",
      "metadata": {
        "id": "view-in-github",
        "colab_type": "text"
      },
      "source": [
        "<a href=\"https://colab.research.google.com/github/msiddalingaiah/MachineLearning/blob/master/Text/Embeddings.ipynb\" target=\"_parent\"><img src=\"https://colab.research.google.com/assets/colab-badge.svg\" alt=\"Open In Colab\"/></a>"
      ]
    },
    {
      "cell_type": "markdown",
      "metadata": {
        "id": "_sqivmOSoR8a",
        "colab_type": "text"
      },
      "source": [
        "## Learned Embeddings\n",
        "\n",
        "Embeddings are one way of representing words as vectors. Embeddings are simply a lookup table that maps a word index into a vector of a defined size.\n",
        "\n",
        "There are many ways to compute embeddings. One-hot encoding is a simple approach, but that can produce large, sparse vectors that might be inefficient with a large vocabulary.\n",
        "\n",
        "This notebook uses backpropagation to learn embeddings given a zero based array of contiguous identifiers."
      ]
    },
    {
      "cell_type": "code",
      "metadata": {
        "id": "lxpZrzZ73Y_R",
        "colab_type": "code",
        "colab": {}
      },
      "source": [
        "%tensorflow_version 2.x"
      ],
      "execution_count": 0,
      "outputs": []
    },
    {
      "cell_type": "code",
      "metadata": {
        "id": "HEFHdq4H3ruI",
        "colab_type": "code",
        "colab": {}
      },
      "source": [
        "import numpy as np\n",
        "import matplotlib.pyplot as plt\n",
        "\n",
        "from tensorflow.keras.models import Sequential\n",
        "from tensorflow.keras.layers import Dense, Dropout, Flatten, Input\n",
        "from tensorflow.keras.layers import Embedding\n",
        "from tensorflow.keras.optimizers import Adam"
      ],
      "execution_count": 0,
      "outputs": []
    },
    {
      "cell_type": "markdown",
      "metadata": {
        "id": "K7gxH7ky48us",
        "colab_type": "text"
      },
      "source": [
        "## Define Parameters\n",
        "\n",
        "The following cell defines the array of identifiers and embedding vector dimension."
      ]
    },
    {
      "cell_type": "code",
      "metadata": {
        "id": "TtoT0vKu_c5w",
        "colab_type": "code",
        "colab": {}
      },
      "source": [
        "identifiers = np.arange(0, 10000)\n",
        "\n",
        "embedding_dimension = 50"
      ],
      "execution_count": 0,
      "outputs": []
    },
    {
      "cell_type": "markdown",
      "metadata": {
        "id": "p-d_024m5Xx5",
        "colab_type": "text"
      },
      "source": [
        "## The Model\n",
        "\n",
        "The model uses the built-in Keras Embedding layer. The weights in this layer represent the embedding vectors that will be computed or learned during training.\n",
        "\n",
        "The model attempts to predict the identifier index, which is represented as a one-hot encoded vector. This is conveniently accomplished using sparse categorical cross entropy loss."
      ]
    },
    {
      "cell_type": "code",
      "metadata": {
        "id": "52wnteDJHW0s",
        "colab_type": "code",
        "colab": {
          "base_uri": "https://localhost:8080/",
          "height": 263
        },
        "outputId": "afa72a3e-906f-460e-e416-8293804a249d"
      },
      "source": [
        "num_classes = len(identifiers)\n",
        "\n",
        "model = Sequential()\n",
        "model.add(Input(1,))\n",
        "embedding_layer = Embedding(num_classes, embedding_dimension)\n",
        "model.add(embedding_layer)\n",
        "model.add(Flatten())\n",
        "model.add(Dense(num_classes, activation='softmax'))\n",
        "\n",
        "model.summary()"
      ],
      "execution_count": 4,
      "outputs": [
        {
          "output_type": "stream",
          "text": [
            "Model: \"sequential\"\n",
            "_________________________________________________________________\n",
            "Layer (type)                 Output Shape              Param #   \n",
            "=================================================================\n",
            "embedding (Embedding)        (None, 1, 50)             500000    \n",
            "_________________________________________________________________\n",
            "flatten (Flatten)            (None, 50)                0         \n",
            "_________________________________________________________________\n",
            "dense (Dense)                (None, 10000)             510000    \n",
            "=================================================================\n",
            "Total params: 1,010,000\n",
            "Trainable params: 1,010,000\n",
            "Non-trainable params: 0\n",
            "_________________________________________________________________\n"
          ],
          "name": "stdout"
        }
      ]
    },
    {
      "cell_type": "markdown",
      "metadata": {
        "id": "qj2IRrcV6OUN",
        "colab_type": "text"
      },
      "source": [
        "## Training\n",
        "\n",
        "Training uses the identifer array as the input and expected output (labels)."
      ]
    },
    {
      "cell_type": "code",
      "metadata": {
        "id": "YDUQnSM7Jieb",
        "colab_type": "code",
        "colab": {
          "base_uri": "https://localhost:8080/",
          "height": 369
        },
        "outputId": "8bc7d0c6-33de-4cac-f4c8-6042bc36edc2"
      },
      "source": [
        "model.compile(loss='sparse_categorical_crossentropy', optimizer=Adam(), metrics=['accuracy'])\n",
        "\n",
        "x_train = identifiers\n",
        "y_train = identifiers\n",
        "\n",
        "history = model.fit(x_train, y_train, batch_size=128, epochs=10, verbose=1)"
      ],
      "execution_count": 5,
      "outputs": [
        {
          "output_type": "stream",
          "text": [
            "Epoch 1/10\n",
            "79/79 [==============================] - 1s 8ms/step - loss: 9.2247 - accuracy: 0.0000e+00\n",
            "Epoch 2/10\n",
            "79/79 [==============================] - 1s 8ms/step - loss: 9.2015 - accuracy: 0.0052\n",
            "Epoch 3/10\n",
            "79/79 [==============================] - 1s 8ms/step - loss: 9.1842 - accuracy: 0.0613\n",
            "Epoch 4/10\n",
            "79/79 [==============================] - 1s 8ms/step - loss: 9.1583 - accuracy: 0.2660\n",
            "Epoch 5/10\n",
            "79/79 [==============================] - 1s 8ms/step - loss: 9.1198 - accuracy: 0.6315\n",
            "Epoch 6/10\n",
            "79/79 [==============================] - 1s 8ms/step - loss: 9.0658 - accuracy: 0.9469\n",
            "Epoch 7/10\n",
            "79/79 [==============================] - 1s 8ms/step - loss: 8.9943 - accuracy: 0.9946\n",
            "Epoch 8/10\n",
            "79/79 [==============================] - 1s 8ms/step - loss: 8.9039 - accuracy: 0.9967\n",
            "Epoch 9/10\n",
            "79/79 [==============================] - 1s 8ms/step - loss: 8.7945 - accuracy: 0.9971\n",
            "Epoch 10/10\n",
            "79/79 [==============================] - 1s 8ms/step - loss: 8.6664 - accuracy: 0.9971\n"
          ],
          "name": "stdout"
        }
      ]
    },
    {
      "cell_type": "code",
      "metadata": {
        "id": "OQiwgz7xNXUp",
        "colab_type": "code",
        "colab": {
          "base_uri": "https://localhost:8080/",
          "height": 295
        },
        "outputId": "21063099-93ff-4984-fafb-6ce1a1bd71a9"
      },
      "source": [
        "plt.plot(history.history['accuracy'])\n",
        "plt.title('Model Accuracy')\n",
        "plt.ylabel('Accuracy')\n",
        "plt.xlabel('Epoch')\n",
        "plt.show()"
      ],
      "execution_count": 6,
      "outputs": [
        {
          "output_type": "display_data",
          "data": {
            "image/png": "[encoded data removed]",
            "text/plain": [
              "<Figure size 432x288 with 1 Axes>"
            ]
          },
          "metadata": {
            "tags": [],
            "needs_background": "light"
          }
        }
      ]
    },
    {
      "cell_type": "markdown",
      "metadata": {
        "id": "8A_pS2GH6nSq",
        "colab_type": "text"
      },
      "source": [
        "## Recover Embeddings\n",
        "\n",
        "The embedding layer contains the weights. The Keras API has a method to get the weights from a layer."
      ]
    },
    {
      "cell_type": "code",
      "metadata": {
        "id": "0gspqPzXOmSA",
        "colab_type": "code",
        "colab": {
          "base_uri": "https://localhost:8080/",
          "height": 35
        },
        "outputId": "00fec92f-0226-4cbe-fa22-8a270bbd2f7c"
      },
      "source": [
        "embeddings = embedding_layer.get_weights()[0]\n",
        "embeddings.shape"
      ],
      "execution_count": 7,
      "outputs": [
        {
          "output_type": "execute_result",
          "data": {
            "text/plain": [
              "(10000, 50)"
            ]
          },
          "metadata": {
            "tags": []
          },
          "execution_count": 7
        }
      ]
    },
    {
      "cell_type": "code",
      "metadata": {
        "id": "8DuJcEh8PCGv",
        "colab_type": "code",
        "colab": {
          "base_uri": "https://localhost:8080/",
          "height": 211
        },
        "outputId": "0d84b3ba-6695-4773-80a8-6717957774d1"
      },
      "source": [
        "embeddings[0]"
      ],
      "execution_count": 8,
      "outputs": [
        {
          "output_type": "execute_result",
          "data": {
            "text/plain": [
              "array([ 0.12051881, -0.11960231,  0.08720278, -0.13845262,  0.10052901,\n",
              "       -0.1402186 ,  0.12157809,  0.09133673,  0.14235276,  0.09581891,\n",
              "       -0.11776249,  0.1477621 ,  0.15034227, -0.1464887 , -0.15572743,\n",
              "       -0.12142568, -0.15627952,  0.16235276, -0.1215926 ,  0.11625854,\n",
              "       -0.13335098, -0.11659718,  0.12491196, -0.13097522,  0.12271889,\n",
              "       -0.16938731,  0.09714976,  0.1529503 , -0.11771875,  0.12651329,\n",
              "       -0.09267969, -0.11408915,  0.14726603, -0.1520277 , -0.12603039,\n",
              "        0.1470017 , -0.14541188, -0.07187903,  0.11722022,  0.11857462,\n",
              "       -0.13916233, -0.15620199,  0.16122474,  0.16482586,  0.16294566,\n",
              "       -0.12067848,  0.14548655, -0.12691244,  0.12463727, -0.11698108],\n",
              "      dtype=float32)"
            ]
          },
          "metadata": {
            "tags": []
          },
          "execution_count": 8
        }
      ]
    },
    {
      "cell_type": "code",
      "metadata": {
        "id": "MhcFthtVPc5Q",
        "colab_type": "code",
        "colab": {
          "base_uri": "https://localhost:8080/",
          "height": 281
        },
        "outputId": "3992fbba-8cd6-40b2-9fe9-87d823ccb900"
      },
      "source": [
        "index = 0\n",
        "plt.plot(embeddings[index])\n",
        "plt.title(f'Embedding for identifier {index}')\n",
        "plt.show()"
      ],
      "execution_count": 9,
      "outputs": [
        {
          "output_type": "display_data",
          "data": {
            "image/png": "[encoded data removed]",
            "text/plain": [
              "<Figure size 432x288 with 1 Axes>"
            ]
          },
          "metadata": {
            "tags": [],
            "needs_background": "light"
          }
        }
      ]
    },
    {
      "cell_type": "markdown",
      "metadata": {
        "id": "OZa0SRHT689R",
        "colab_type": "text"
      },
      "source": [
        "## Verification\n",
        "\n",
        "Ideally, embedding vectors should be orthogonal to each other. The following visualization plots cross correlation, which is the dot product of one vector with all others. It's not perfect, but reasonable."
      ]
    },
    {
      "cell_type": "code",
      "metadata": {
        "id": "DiTs2SWL2teM",
        "colab_type": "code",
        "colab": {
          "base_uri": "https://localhost:8080/",
          "height": 299
        },
        "outputId": "9bc1cfed-4d1c-4234-b027-15056dd59a5a"
      },
      "source": [
        "dots = []\n",
        "for i in range(num_classes):\n",
        "  dots.append(np.dot(embeddings[1000], embeddings[i]))\n",
        "\n",
        "plt.plot(dots)\n",
        "plt.title('Dot Product')\n",
        "plt.show()\n",
        "\n",
        "print(f'Standard deviation: {np.std(dots):.2f}')"
      ],
      "execution_count": 10,
      "outputs": [
        {
          "output_type": "display_data",
          "data": {
            "image/png": "[encoded data removed]",
            "text/plain": [
              "<Figure size 432x288 with 1 Axes>"
            ]
          },
          "metadata": {
            "tags": [],
            "needs_background": "light"
          }
        },
        {
          "output_type": "stream",
          "text": [
            "Standard deviation: 0.12\n"
          ],
          "name": "stdout"
        }
      ]
    }
  ]
}